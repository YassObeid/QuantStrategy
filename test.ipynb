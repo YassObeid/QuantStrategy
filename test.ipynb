{
 "cells": [
  {
   "cell_type": "code",
   "execution_count": null,
   "metadata": {},
   "outputs": [
    {
     "data": {
      "text/plain": [
       "True"
      ]
     },
     "execution_count": 24,
     "metadata": {},
     "output_type": "execute_result"
    }
   ],
   "source": [
    "#from web3 import Web3\n",
    "\n",
    "# mainnet DO NOT USE UNLESS FOR PRODUCTION\n",
    "#infura_url = \"https://mainnet.infura.io/v3/81e546ebd5c54cdd8f8488d75a1fa114\" # replace 'mainnet' by 'sepolia' to use testnet\n",
    "#w3 = Web3(Web3.HTTPProvider(infura_url))\n",
    "#w3.is_connected()"
   ]
  },
  {
   "cell_type": "code",
   "execution_count": 2,
   "metadata": {},
   "outputs": [
    {
     "name": "stdout",
     "output_type": "stream",
     "text": [
      "Your test wallet address: 0x6128Dc8A45283D626154d8553eC61ad4e243399f\n",
      "Your test wallet private key: 21d9cac91489154631c2178d024ac568fc2e272dc17fae3a58200eeac57957f3\n"
     ]
    }
   ],
   "source": [
    "# TEST WALLET CREATION\n",
    "\n",
    "from web3 import Web3\n",
    "\n",
    "# Generate a random private key\n",
    "w3 = Web3()\n",
    "private_key = w3.eth.account.create().key.hex()  # Generate a random private key\n",
    "\n",
    "# Derive the wallet address\n",
    "account = w3.eth.account.from_key(private_key)  # Use from_key instead of privateKeyToAccount\n",
    "\n",
    "print(f\"Your test wallet address: {account.address}\")\n",
    "print(f\"Your test wallet private key: {private_key}\")\n",
    "\n",
    "#Your test wallet address: 0x804ef9814CB2f054A2cD772D598b6D54bc6105D6\n",
    "#Your test wallet private key: a4e0be21933b4b7433caf8a4878e268ae1343c8468bc2fc449b802fe3d27882d"
   ]
  },
  {
   "cell_type": "markdown",
   "metadata": {},
   "source": [
    "***"
   ]
  },
  {
   "cell_type": "code",
   "execution_count": 9,
   "metadata": {},
   "outputs": [
    {
     "name": "stdout",
     "output_type": "stream",
     "text": [
      "ETH/USDT Pair Address: 0x94Db6E5f082173EB15B6B098036E4Cdf80723Ad2\n"
     ]
    }
   ],
   "source": [
    "from web3 import Web3\n",
    "\n",
    "# Connect to Sepolia\n",
    "infura_url = \"https://sepolia.infura.io/v3/81e546ebd5c54cdd8f8488d75a1fa114\"\n",
    "w3 = Web3(Web3.HTTPProvider(infura_url))\n",
    "\n",
    "# Uniswap Factory contract on Sepolia\n",
    "factory_contract_address = \"0xF62c03E08ada871A0bEb309762E260a7a6a880E6\"\n",
    "factory_abi = [\n",
    "    {\n",
    "        \"constant\": True,\n",
    "        \"inputs\": [\n",
    "            {\"name\": \"tokenA\", \"type\": \"address\"},\n",
    "            {\"name\": \"tokenB\", \"type\": \"address\"},\n",
    "        ],\n",
    "        \"name\": \"getPair\",\n",
    "        \"outputs\": [{\"name\": \"pair\", \"type\": \"address\"}],\n",
    "        \"payable\": False,\n",
    "        \"stateMutability\": \"view\",\n",
    "        \"type\": \"function\",\n",
    "    }\n",
    "]\n",
    "\n",
    "# Initialize the factory contract\n",
    "factory_contract = w3.eth.contract(address=factory_contract_address, abi=factory_abi)\n",
    "\n",
    "# Token addresses (replace with Sepolia ETH and USDT addresses)\n",
    "eth_address = \"0x7b79995e5f793A07Bc00c21412e50Ecae098E7f9\"  # WETH\n",
    "usdt_address = \"0xaA8E23Fb1079EA71e0a56F48a2aA51851D8433D0\"\n",
    "\n",
    "# Fetch the pair address\n",
    "pair_address = factory_contract.functions.getPair(eth_address, usdt_address).call()\n",
    "\n",
    "print(f\"ETH/USDT Pair Address: {pair_address}\")"
   ]
  },
  {
   "cell_type": "code",
   "execution_count": 10,
   "metadata": {},
   "outputs": [
    {
     "name": "stdout",
     "output_type": "stream",
     "text": [
      "Reserves: [0, 0, 0]\n"
     ]
    }
   ],
   "source": [
    "pair_abi = [\n",
    "    {\n",
    "        \"constant\": True,\n",
    "        \"inputs\": [],\n",
    "        \"name\": \"getReserves\",\n",
    "        \"outputs\": [\n",
    "            {\"name\": \"_reserve0\", \"type\": \"uint112\"},\n",
    "            {\"name\": \"_reserve1\", \"type\": \"uint112\"},\n",
    "            {\"name\": \"_blockTimestampLast\", \"type\": \"uint32\"},\n",
    "        ],\n",
    "        \"payable\": False,\n",
    "        \"stateMutability\": \"view\",\n",
    "        \"type\": \"function\",\n",
    "    }\n",
    "]\n",
    "\n",
    "pair_contract = w3.eth.contract(address=pair_address, abi=pair_abi)\n",
    "reserves = pair_contract.functions.getReserves().call()\n",
    "print(f\"Reserves: {reserves}\")"
   ]
  },
  {
   "cell_type": "code",
   "execution_count": null,
   "metadata": {},
   "outputs": [
    {
     "ename": "InvalidAddress",
     "evalue": "('Address has an invalid EIP-55 checksum. After looking up the address from the original source, try again.', '0xA0b86991C6218B36c1D19D4A2e9eb0Ce3606eB48')",
     "output_type": "error",
     "traceback": [
      "\u001b[0;31m---------------------------------------------------------------------------\u001b[0m",
      "\u001b[0;31mInvalidAddress\u001b[0m                            Traceback (most recent call last)",
      "Cell \u001b[0;32mIn[13], line 94\u001b[0m\n\u001b[1;32m     92\u001b[0m \u001b[38;5;66;03m# Start the bot\u001b[39;00m\n\u001b[1;32m     93\u001b[0m \u001b[38;5;28;01mif\u001b[39;00m \u001b[38;5;18m__name__\u001b[39m \u001b[38;5;241m==\u001b[39m \u001b[38;5;124m\"\u001b[39m\u001b[38;5;124m__main__\u001b[39m\u001b[38;5;124m\"\u001b[39m:\n\u001b[0;32m---> 94\u001b[0m     \u001b[43mtrade\u001b[49m\u001b[43m(\u001b[49m\u001b[43m)\u001b[49m\n",
      "Cell \u001b[0;32mIn[13], line 74\u001b[0m, in \u001b[0;36mtrade\u001b[0;34m()\u001b[0m\n\u001b[1;32m     72\u001b[0m \u001b[38;5;28;01mdef\u001b[39;00m \u001b[38;5;21mtrade\u001b[39m():\n\u001b[1;32m     73\u001b[0m     \u001b[38;5;28;01mwhile\u001b[39;00m \u001b[38;5;28;01mTrue\u001b[39;00m:\n\u001b[0;32m---> 74\u001b[0m         balance_token1 \u001b[38;5;241m=\u001b[39m \u001b[43mget_token_balance\u001b[49m\u001b[43m(\u001b[49m\u001b[43mtoken1_address\u001b[49m\u001b[43m)\u001b[49m\n\u001b[1;32m     75\u001b[0m         balance_token2 \u001b[38;5;241m=\u001b[39m get_token_balance(token2_address)\n\u001b[1;32m     77\u001b[0m         \u001b[38;5;66;03m# Naive strategy: if we have more token1, trade it for token2\u001b[39;00m\n",
      "Cell \u001b[0;32mIn[13], line 49\u001b[0m, in \u001b[0;36mget_token_balance\u001b[0;34m(token_address)\u001b[0m\n\u001b[1;32m     48\u001b[0m \u001b[38;5;28;01mdef\u001b[39;00m \u001b[38;5;21mget_token_balance\u001b[39m(token_address):\n\u001b[0;32m---> 49\u001b[0m     token_contract \u001b[38;5;241m=\u001b[39m \u001b[43mw3\u001b[49m\u001b[38;5;241;43m.\u001b[39;49m\u001b[43meth\u001b[49m\u001b[38;5;241;43m.\u001b[39;49m\u001b[43mcontract\u001b[49m\u001b[43m(\u001b[49m\u001b[43maddress\u001b[49m\u001b[38;5;241;43m=\u001b[39;49m\u001b[43mtoken_address\u001b[49m\u001b[43m,\u001b[49m\u001b[43m \u001b[49m\u001b[43mabi\u001b[49m\u001b[38;5;241;43m=\u001b[39;49m\u001b[43merc20_abi\u001b[49m\u001b[43m)\u001b[49m\n\u001b[1;32m     50\u001b[0m     balance \u001b[38;5;241m=\u001b[39m token_contract\u001b[38;5;241m.\u001b[39mfunctions\u001b[38;5;241m.\u001b[39mbalanceOf(my_address)\u001b[38;5;241m.\u001b[39mcall()\n\u001b[1;32m     51\u001b[0m     \u001b[38;5;28;01mreturn\u001b[39;00m balance\n",
      "File \u001b[0;32m~/Desktop/web3/.venv/lib/python3.12/site-packages/web3/eth/eth.py:664\u001b[0m, in \u001b[0;36mEth.contract\u001b[0;34m(self, address, **kwargs)\u001b[0m\n\u001b[1;32m    661\u001b[0m ContractFactory \u001b[38;5;241m=\u001b[39m ContractFactoryClass\u001b[38;5;241m.\u001b[39mfactory(\u001b[38;5;28mself\u001b[39m\u001b[38;5;241m.\u001b[39mw3, \u001b[38;5;241m*\u001b[39m\u001b[38;5;241m*\u001b[39mkwargs)\n\u001b[1;32m    663\u001b[0m \u001b[38;5;28;01mif\u001b[39;00m address:\n\u001b[0;32m--> 664\u001b[0m     \u001b[38;5;28;01mreturn\u001b[39;00m \u001b[43mContractFactory\u001b[49m\u001b[43m(\u001b[49m\u001b[43maddress\u001b[49m\u001b[43m)\u001b[49m\n\u001b[1;32m    665\u001b[0m \u001b[38;5;28;01melse\u001b[39;00m:\n\u001b[1;32m    666\u001b[0m     \u001b[38;5;28;01mreturn\u001b[39;00m ContractFactory\n",
      "File \u001b[0;32m~/Desktop/web3/.venv/lib/python3.12/site-packages/web3/contract/contract.py:577\u001b[0m, in \u001b[0;36mContract.__init__\u001b[0;34m(self, address)\u001b[0m\n\u001b[1;32m    571\u001b[0m     \u001b[38;5;28;01mraise\u001b[39;00m Web3AttributeError(\n\u001b[1;32m    572\u001b[0m         \u001b[38;5;124m\"\u001b[39m\u001b[38;5;124mThe `Contract` class has not been initialized.  Please use the \u001b[39m\u001b[38;5;124m\"\u001b[39m\n\u001b[1;32m    573\u001b[0m         \u001b[38;5;124m\"\u001b[39m\u001b[38;5;124m`web3.contract` interface to create your contract class.\u001b[39m\u001b[38;5;124m\"\u001b[39m\n\u001b[1;32m    574\u001b[0m     )\n\u001b[1;32m    576\u001b[0m \u001b[38;5;28;01mif\u001b[39;00m address:\n\u001b[0;32m--> 577\u001b[0m     \u001b[38;5;28mself\u001b[39m\u001b[38;5;241m.\u001b[39maddress \u001b[38;5;241m=\u001b[39m \u001b[43mnormalize_address\u001b[49m\u001b[43m(\u001b[49m\u001b[43mcast\u001b[49m\u001b[43m(\u001b[49m\u001b[38;5;124;43m\"\u001b[39;49m\u001b[38;5;124;43mENS\u001b[39;49m\u001b[38;5;124;43m\"\u001b[39;49m\u001b[43m,\u001b[49m\u001b[43m \u001b[49m\u001b[43m_w3\u001b[49m\u001b[38;5;241;43m.\u001b[39;49m\u001b[43mens\u001b[49m\u001b[43m)\u001b[49m\u001b[43m,\u001b[49m\u001b[43m \u001b[49m\u001b[43maddress\u001b[49m\u001b[43m)\u001b[49m\n\u001b[1;32m    579\u001b[0m \u001b[38;5;28;01mif\u001b[39;00m \u001b[38;5;129;01mnot\u001b[39;00m \u001b[38;5;28mself\u001b[39m\u001b[38;5;241m.\u001b[39maddress:\n\u001b[1;32m    580\u001b[0m     \u001b[38;5;28;01mraise\u001b[39;00m Web3TypeError(\n\u001b[1;32m    581\u001b[0m         \u001b[38;5;124m\"\u001b[39m\u001b[38;5;124mThe address argument is required to instantiate a contract.\u001b[39m\u001b[38;5;124m\"\u001b[39m\n\u001b[1;32m    582\u001b[0m     )\n",
      "File \u001b[0;32m~/Desktop/web3/.venv/lib/python3.12/site-packages/web3/_utils/normalizers.py:264\u001b[0m, in \u001b[0;36mnormalize_address\u001b[0;34m(ens, address)\u001b[0m\n\u001b[1;32m    262\u001b[0m         validate_name_has_address(ens, address)\n\u001b[1;32m    263\u001b[0m     \u001b[38;5;28;01melse\u001b[39;00m:\n\u001b[0;32m--> 264\u001b[0m         \u001b[43mvalidate_address\u001b[49m\u001b[43m(\u001b[49m\u001b[43maddress\u001b[49m\u001b[43m)\u001b[49m\n\u001b[1;32m    265\u001b[0m \u001b[38;5;28;01mreturn\u001b[39;00m address\n",
      "File \u001b[0;32m~/Desktop/web3/.venv/lib/python3.12/site-packages/web3/_utils/validation.py:195\u001b[0m, in \u001b[0;36mvalidate_address\u001b[0;34m(value)\u001b[0m\n\u001b[1;32m    186\u001b[0m     \u001b[38;5;28;01mraise\u001b[39;00m InvalidAddress(\n\u001b[1;32m    187\u001b[0m         \u001b[38;5;124m\"\u001b[39m\u001b[38;5;124mweb3.py only accepts checksum addresses. \u001b[39m\u001b[38;5;124m\"\u001b[39m\n\u001b[1;32m    188\u001b[0m         \u001b[38;5;124m\"\u001b[39m\u001b[38;5;124mThe software that gave you this non-checksum address should be \u001b[39m\u001b[38;5;124m\"\u001b[39m\n\u001b[0;32m   (...)\u001b[0m\n\u001b[1;32m    192\u001b[0m         value,\n\u001b[1;32m    193\u001b[0m     )\n\u001b[1;32m    194\u001b[0m \u001b[38;5;28;01melse\u001b[39;00m:\n\u001b[0;32m--> 195\u001b[0m     \u001b[38;5;28;01mraise\u001b[39;00m InvalidAddress(\n\u001b[1;32m    196\u001b[0m         \u001b[38;5;124m\"\u001b[39m\u001b[38;5;124mAddress has an invalid EIP-55 checksum. \u001b[39m\u001b[38;5;124m\"\u001b[39m\n\u001b[1;32m    197\u001b[0m         \u001b[38;5;124m\"\u001b[39m\u001b[38;5;124mAfter looking up the address from the original source, try again.\u001b[39m\u001b[38;5;124m\"\u001b[39m,\n\u001b[1;32m    198\u001b[0m         value,\n\u001b[1;32m    199\u001b[0m     )\n",
      "\u001b[0;31mInvalidAddress\u001b[0m: ('Address has an invalid EIP-55 checksum. After looking up the address from the original source, try again.', '0xA0b86991C6218B36c1D19D4A2e9eb0Ce3606eB48')"
     ]
    }
   ],
   "source": [
    "from web3 import Web3\n",
    "import time\n",
    "from decimal import Decimal\n",
    "\n",
    "# Connect to Sepolia Testnet via Infura\n",
    "infura_url = \"https://sepolia.infura.io/v3/81e546ebd5c54cdd8f8488d75a1fa114\"\n",
    "w3 = Web3(Web3.HTTPProvider(infura_url))\n",
    "\n",
    "# ERC-20 ABI (basic interface to interact with tokens)\n",
    "erc20_abi = [\n",
    "    {\n",
    "        \"constant\": True,\n",
    "        \"inputs\": [],\n",
    "        \"name\": \"balanceOf\",\n",
    "        \"outputs\": [{\"name\": \"\", \"type\": \"uint256\"}],\n",
    "        \"payable\": False,\n",
    "        \"stateMutability\": \"view\",\n",
    "        \"type\": \"function\",\n",
    "    },\n",
    "    {\n",
    "        \"constant\": False,\n",
    "        \"inputs\": [\n",
    "            {\"name\": \"to\", \"type\": \"address\"},\n",
    "            {\"name\": \"value\", \"type\": \"uint256\"}\n",
    "        ],\n",
    "        \"name\": \"transfer\",\n",
    "        \"outputs\": [{\"name\": \"\", \"type\": \"bool\"}],\n",
    "        \"payable\": False,\n",
    "        \"stateMutability\": \"nonpayable\",\n",
    "        \"type\": \"function\",\n",
    "    },\n",
    "]\n",
    "\n",
    "# Uniswap Router Contract Address on Sepolia (example)\n",
    "uniswap_router_address = \"0xF62c03E08ada871A0bEb309762E260a7a6a880E6\"\n",
    "uniswap_router_abi =   # Uniswap Router ABI here\n",
    "\n",
    "# Set up wallet and contract\n",
    "private_key = \"21d9cac91489154631c2178d024ac568fc2e272dc17fae3a58200eeac57957f3\"  # Ensure you keep your private key safe\n",
    "my_address = \"0x6128Dc8A45283D626154d8553eC61ad4e243399f\"\n",
    "router_contract = w3.eth.contract(address=uniswap_router_address, abi=uniswap_router_abi)\n",
    "\n",
    "# Token addresses (replace with actual token addresses on Sepolia)\n",
    "token1_address = \"0xA0b86991C6218B36c1D19D4A2e9eb0Ce3606eB48\"  # Example USDC address\n",
    "token2_address = \"0x7b79995e5f793A07Bc00c21412e50Ecae098E7f9\"  # Example WETH address\n",
    "\n",
    "# Define a simple function to get token balance\n",
    "def get_token_balance(token_address):\n",
    "    token_contract = w3.eth.contract(address=token_address, abi=erc20_abi)\n",
    "    balance = token_contract.functions.balanceOf(my_address).call()\n",
    "    return balance\n",
    "\n",
    "# Define the function to swap tokens\n",
    "def swap_tokens(amount_in, token_in, token_out):\n",
    "    path = [token_in, token_out]\n",
    "    amount_out_min = 0  # For simplicity, no slippage check\n",
    "    to = my_address  # Send the tokens to your address\n",
    "    deadline = int(time.time()) + 300  # 5-minute deadline for transaction\n",
    "    txn = router_contract.functions.swapExactTokensForTokens(\n",
    "        amount_in, amount_out_min, path, to, deadline\n",
    "    ).buildTransaction({\n",
    "        'from': my_address,\n",
    "        'gas': 200000,\n",
    "        'gasPrice': w3.toWei('20', 'gwei'),\n",
    "        'nonce': w3.eth.getTransactionCount(my_address),\n",
    "    })\n",
    "    signed_txn = w3.eth.account.sign_transaction(txn, private_key)\n",
    "    txn_hash = w3.eth.sendRawTransaction(signed_txn.rawTransaction)\n",
    "    return txn_hash\n",
    "\n",
    "# Main loop to perform trades\n",
    "def trade():\n",
    "    while True:\n",
    "        balance_token1 = get_token_balance(token1_address)\n",
    "        balance_token2 = get_token_balance(token2_address)\n",
    "\n",
    "        # Naive strategy: if we have more token1, trade it for token2\n",
    "        if balance_token1 > 0:\n",
    "            amount_in = balance_token1 // 2  # Swap 50% of token1 balance\n",
    "            txn_hash = swap_tokens(amount_in, token1_address, token2_address)\n",
    "            print(f\"Swapping {amount_in} Token1 for Token2, Txn Hash: {txn_hash.hex()}\")\n",
    "\n",
    "        # If we have more token2, trade it for token1\n",
    "        elif balance_token2 > 0:\n",
    "            amount_in = balance_token2 // 2  # Swap 50% of token2 balance\n",
    "            txn_hash = swap_tokens(amount_in, token2_address, token1_address)\n",
    "            print(f\"Swapping {amount_in} Token2 for Token1, Txn Hash: {txn_hash.hex()}\")\n",
    "\n",
    "        # Wait for a minute before the next trade\n",
    "        time.sleep(60)\n",
    "\n",
    "# Start the bot\n",
    "if __name__ == \"__main__\":\n",
    "    trade()"
   ]
  },
  {
   "cell_type": "code",
   "execution_count": null,
   "metadata": {},
   "outputs": [],
   "source": []
  },
  {
   "cell_type": "code",
   "execution_count": null,
   "metadata": {},
   "outputs": [],
   "source": []
  }
 ],
 "metadata": {
  "kernelspec": {
   "display_name": ".venv",
   "language": "python",
   "name": "python3"
  },
  "language_info": {
   "codemirror_mode": {
    "name": "ipython",
    "version": 3
   },
   "file_extension": ".py",
   "mimetype": "text/x-python",
   "name": "python",
   "nbconvert_exporter": "python",
   "pygments_lexer": "ipython3",
   "version": "3.12.3"
  }
 },
 "nbformat": 4,
 "nbformat_minor": 2
}
